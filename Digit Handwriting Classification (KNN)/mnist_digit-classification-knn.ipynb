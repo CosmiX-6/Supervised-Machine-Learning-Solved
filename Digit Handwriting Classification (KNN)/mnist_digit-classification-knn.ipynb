{
 "cells": [
  {
   "cell_type": "markdown",
   "id": "d593b3d1-f21e-455f-afb9-3b514d29e6a8",
   "metadata": {},
   "source": [
    "# **DIGIT HANDWRITING CLASSIFICATION**"
   ]
  },
  {
   "cell_type": "markdown",
   "id": "e539d410-d35d-44f8-9071-bac697b3c025",
   "metadata": {},
   "source": [
    "## Abstract\n",
    "The problem of handwritten digit recognition has long been an open problem in the field of pattern classification. A ton of studies have shown that Neural networks, machine learning have great and efficient performance. In data classification Deep learning and Neural Network algorithms are a branch of Machine learning that can automatically identify patterns in the data, and then use the uncovered patterns to predict future data, or to perform other alternative kinds of decision making under unreliability Deep Learning algorithms are used to model high level abstractions in data.\n",
    "\n",
    "## Problem Statement\n",
    "In this notebook our aim will be to build simple K-Nearest Neighbor Model to predict the digit in each\n",
    "image."
   ]
  },
  {
   "cell_type": "markdown",
   "id": "ccd8352c-60df-4f3f-b41f-447eaa7cac1f",
   "metadata": {},
   "source": [
    "## Importing dependencies"
   ]
  },
  {
   "cell_type": "code",
   "execution_count": 1,
   "id": "807ff549-c56e-407e-918d-83d8add4e3b6",
   "metadata": {},
   "outputs": [],
   "source": [
    "import pandas as pd\n",
    "import numpy as np\n",
    "from PIL import Image\n",
    "from sklearn import *"
   ]
  },
  {
   "cell_type": "markdown",
   "id": "90067273-e899-44d1-b5d5-1462879f3adb",
   "metadata": {},
   "source": [
    "## Load Dataset"
   ]
  },
  {
   "cell_type": "markdown",
   "id": "3cebac3d-ff20-4455-bb84-d438bb8febf6",
   "metadata": {},
   "source": [
    "You can find the dataset from git repo : [Get Dataset](https://github.com/CosmiX-6/Supervised-Machine-Learning-Solved/raw/master/Digit%20Handwriting%20Classification/output/processed_dataset/mnist_digit_data.csv) << Click to download\n",
    "\n",
    "Size of data size is 74.5Mb"
   ]
  },
  {
   "cell_type": "code",
   "execution_count": 2,
   "id": "eb0ba1f0-76f0-45d8-ae0a-7a903da5cc62",
   "metadata": {},
   "outputs": [],
   "source": [
    "# code to get digit dataset\n",
    "df = pd.read_csv('https://raw.githubusercontent.com/CosmiX-6/Supervised-Machine-Learning-Solved/master/Digit%20Handwriting%20Classification/output/processed_dataset/mnist_digit_data.csv')"
   ]
  },
  {
   "cell_type": "code",
   "execution_count": 3,
   "id": "272de9cd-740c-4a2d-925f-95db1ba6ef3a",
   "metadata": {},
   "outputs": [
    {
     "data": {
      "text/html": [
       "<div>\n",
       "<style scoped>\n",
       "    .dataframe tbody tr th:only-of-type {\n",
       "        vertical-align: middle;\n",
       "    }\n",
       "\n",
       "    .dataframe tbody tr th {\n",
       "        vertical-align: top;\n",
       "    }\n",
       "\n",
       "    .dataframe thead th {\n",
       "        text-align: right;\n",
       "    }\n",
       "</style>\n",
       "<table border=\"1\" class=\"dataframe\">\n",
       "  <thead>\n",
       "    <tr style=\"text-align: right;\">\n",
       "      <th></th>\n",
       "      <th>0</th>\n",
       "      <th>1</th>\n",
       "      <th>2</th>\n",
       "      <th>3</th>\n",
       "      <th>4</th>\n",
       "      <th>5</th>\n",
       "      <th>6</th>\n",
       "      <th>7</th>\n",
       "      <th>8</th>\n",
       "      <th>9</th>\n",
       "      <th>...</th>\n",
       "      <th>775</th>\n",
       "      <th>776</th>\n",
       "      <th>777</th>\n",
       "      <th>778</th>\n",
       "      <th>779</th>\n",
       "      <th>780</th>\n",
       "      <th>781</th>\n",
       "      <th>782</th>\n",
       "      <th>783</th>\n",
       "      <th>target</th>\n",
       "    </tr>\n",
       "  </thead>\n",
       "  <tbody>\n",
       "    <tr>\n",
       "      <th>0</th>\n",
       "      <td>3</td>\n",
       "      <td>0</td>\n",
       "      <td>0</td>\n",
       "      <td>3</td>\n",
       "      <td>7</td>\n",
       "      <td>3</td>\n",
       "      <td>0</td>\n",
       "      <td>3</td>\n",
       "      <td>0</td>\n",
       "      <td>11</td>\n",
       "      <td>...</td>\n",
       "      <td>0</td>\n",
       "      <td>0</td>\n",
       "      <td>0</td>\n",
       "      <td>0</td>\n",
       "      <td>0</td>\n",
       "      <td>0</td>\n",
       "      <td>0</td>\n",
       "      <td>0</td>\n",
       "      <td>0</td>\n",
       "      <td>0</td>\n",
       "    </tr>\n",
       "    <tr>\n",
       "      <th>1</th>\n",
       "      <td>0</td>\n",
       "      <td>0</td>\n",
       "      <td>0</td>\n",
       "      <td>0</td>\n",
       "      <td>0</td>\n",
       "      <td>0</td>\n",
       "      <td>0</td>\n",
       "      <td>0</td>\n",
       "      <td>8</td>\n",
       "      <td>0</td>\n",
       "      <td>...</td>\n",
       "      <td>0</td>\n",
       "      <td>0</td>\n",
       "      <td>0</td>\n",
       "      <td>0</td>\n",
       "      <td>0</td>\n",
       "      <td>0</td>\n",
       "      <td>0</td>\n",
       "      <td>0</td>\n",
       "      <td>0</td>\n",
       "      <td>0</td>\n",
       "    </tr>\n",
       "    <tr>\n",
       "      <th>2</th>\n",
       "      <td>0</td>\n",
       "      <td>0</td>\n",
       "      <td>0</td>\n",
       "      <td>0</td>\n",
       "      <td>0</td>\n",
       "      <td>0</td>\n",
       "      <td>0</td>\n",
       "      <td>0</td>\n",
       "      <td>2</td>\n",
       "      <td>0</td>\n",
       "      <td>...</td>\n",
       "      <td>0</td>\n",
       "      <td>0</td>\n",
       "      <td>0</td>\n",
       "      <td>0</td>\n",
       "      <td>0</td>\n",
       "      <td>0</td>\n",
       "      <td>0</td>\n",
       "      <td>0</td>\n",
       "      <td>0</td>\n",
       "      <td>0</td>\n",
       "    </tr>\n",
       "    <tr>\n",
       "      <th>3</th>\n",
       "      <td>0</td>\n",
       "      <td>0</td>\n",
       "      <td>0</td>\n",
       "      <td>0</td>\n",
       "      <td>0</td>\n",
       "      <td>0</td>\n",
       "      <td>0</td>\n",
       "      <td>0</td>\n",
       "      <td>0</td>\n",
       "      <td>9</td>\n",
       "      <td>...</td>\n",
       "      <td>0</td>\n",
       "      <td>0</td>\n",
       "      <td>0</td>\n",
       "      <td>0</td>\n",
       "      <td>0</td>\n",
       "      <td>0</td>\n",
       "      <td>0</td>\n",
       "      <td>0</td>\n",
       "      <td>0</td>\n",
       "      <td>0</td>\n",
       "    </tr>\n",
       "    <tr>\n",
       "      <th>4</th>\n",
       "      <td>0</td>\n",
       "      <td>0</td>\n",
       "      <td>0</td>\n",
       "      <td>0</td>\n",
       "      <td>0</td>\n",
       "      <td>0</td>\n",
       "      <td>0</td>\n",
       "      <td>0</td>\n",
       "      <td>0</td>\n",
       "      <td>2</td>\n",
       "      <td>...</td>\n",
       "      <td>0</td>\n",
       "      <td>0</td>\n",
       "      <td>0</td>\n",
       "      <td>0</td>\n",
       "      <td>0</td>\n",
       "      <td>0</td>\n",
       "      <td>0</td>\n",
       "      <td>0</td>\n",
       "      <td>0</td>\n",
       "      <td>0</td>\n",
       "    </tr>\n",
       "  </tbody>\n",
       "</table>\n",
       "<p>5 rows × 785 columns</p>\n",
       "</div>"
      ],
      "text/plain": [
       "   0  1  2  3  4  5  6  7  8   9  ...  775  776  777  778  779  780  781  782  \\\n",
       "0  3  0  0  3  7  3  0  3  0  11  ...    0    0    0    0    0    0    0    0   \n",
       "1  0  0  0  0  0  0  0  0  8   0  ...    0    0    0    0    0    0    0    0   \n",
       "2  0  0  0  0  0  0  0  0  2   0  ...    0    0    0    0    0    0    0    0   \n",
       "3  0  0  0  0  0  0  0  0  0   9  ...    0    0    0    0    0    0    0    0   \n",
       "4  0  0  0  0  0  0  0  0  0   2  ...    0    0    0    0    0    0    0    0   \n",
       "\n",
       "   783  target  \n",
       "0    0       0  \n",
       "1    0       0  \n",
       "2    0       0  \n",
       "3    0       0  \n",
       "4    0       0  \n",
       "\n",
       "[5 rows x 785 columns]"
      ]
     },
     "execution_count": 3,
     "metadata": {},
     "output_type": "execute_result"
    }
   ],
   "source": [
    "df.head()"
   ]
  },
  {
   "cell_type": "markdown",
   "id": "7a7e718d-4a2b-4153-9c9e-675009b6f72c",
   "metadata": {},
   "source": [
    "Initializing variable for Independent and Dependent data."
   ]
  },
  {
   "cell_type": "code",
   "execution_count": 4,
   "id": "ae4fd7e7-be2a-4c97-8c19-ae3e3e8ba88d",
   "metadata": {},
   "outputs": [],
   "source": [
    "Xdata = df.iloc[:,:-1]\n",
    "Ydata = df.iloc[:, -1]"
   ]
  },
  {
   "cell_type": "code",
   "execution_count": 5,
   "id": "550bb116-1b6b-4ee5-98ce-42ccda793bad",
   "metadata": {},
   "outputs": [],
   "source": [
    "# split the data for training and testing\n",
    "x_train, x_test, y_train, y_test = model_selection.train_test_split(Xdata,Ydata,test_size = 0.2, random_state = 1)"
   ]
  },
  {
   "cell_type": "markdown",
   "id": "aeadacd0-c43e-4d61-8209-60f8f05b8e7d",
   "metadata": {},
   "source": [
    "## Modelling"
   ]
  },
  {
   "cell_type": "markdown",
   "id": "673de0dc-dba7-4c29-8e0d-d404ddf922d8",
   "metadata": {},
   "source": [
    "In this book we are going to make use of KNN model.\n",
    "\n",
    "KNN: K Nearest Neighbor is one of the fundamental algorithms in machine learning. Machine learning models use a set of input values to predict output values. KNN is one of the simplest forms of machine learning algorithms mostly used for classification. It classifies the data point on how its neighbor is classified."
   ]
  },
  {
   "cell_type": "code",
   "execution_count": 6,
   "id": "796f5964-879a-428b-a4c6-ce117c5e3557",
   "metadata": {},
   "outputs": [],
   "source": [
    "from sklearn.neighbors import KNeighborsClassifier"
   ]
  },
  {
   "cell_type": "markdown",
   "id": "40b81c4a-7544-4965-b4aa-b026033b072b",
   "metadata": {},
   "source": [
    "Let's fnd the best value for n_neighbor parameter."
   ]
  },
  {
   "cell_type": "markdown",
   "id": "c81789de-f3a1-43df-ac4f-1cb2e919f957",
   "metadata": {},
   "source": [
    "#### Program to calculate best value for n_neighbor\n",
    "\n",
    "###### This code can take upto couple of hour to complete the execution"
   ]
  },
  {
   "cell_type": "code",
   "execution_count": 7,
   "id": "d6acab4b-e2b5-476a-9035-74eec4ce9550",
   "metadata": {},
   "outputs": [],
   "source": [
    "# storing score\n",
    "train_score=[]\n",
    "test_score=[]\n",
    "\n",
    "# range of neighbors\n",
    "K =  np.arange(1,20)\n",
    "\n",
    "for k in K:\n",
    "    clf = KNeighborsClassifier(n_neighbors=k)\n",
    "    clf.fit(x_train,y_train)\n",
    "    y_train_pred = clf.predict(x_train)\n",
    "    y_test_pred = clf.predict(x_test)\n",
    "    \n",
    "    # calculate score\n",
    "    f1_train = metrics.f1_score(y_train,y_train_pred,average='macro')\n",
    "    f1_test = metrics.f1_score(y_test,y_test_pred,average='macro')\n",
    "    \n",
    "    # storing scores\n",
    "    train_score.append(f1_train)\n",
    "    test_score.append(f1_test)"
   ]
  },
  {
   "cell_type": "code",
   "execution_count": 8,
   "id": "ae5ab06c-dd42-4fed-9d8b-30a814737581",
   "metadata": {},
   "outputs": [],
   "source": [
    "import seaborn as sns\n",
    "import matplotlib.pyplot as plt"
   ]
  },
  {
   "cell_type": "markdown",
   "id": "d2d016b0-f932-48fa-9ad2-ef2c2c503620",
   "metadata": {},
   "source": [
    "#### Plotting train and test result comparison"
   ]
  },
  {
   "cell_type": "code",
   "execution_count": 9,
   "id": "99a8a99b-819b-49b4-832d-fae88b144d2c",
   "metadata": {},
   "outputs": [],
   "source": [
    "# score comparison plot\n",
    "sns.lineplot(x=range(1,20), y=train_score, color=\"red\")\n",
    "sns.lineplot(x=range(1,20), y=test_score, color=\"blue\")\n",
    "\n",
    "plt.xticks(np.arange(1,20, 2))\n",
    "\n",
    "plt.title(\"Train V/s Test score\")\n",
    "plt.xlabel(\"Neighbor\")\n",
    "plt.ylabel(\"Score\")\n",
    "\n",
    "plt.show()"
   ]
  },
  {
   "attachments": {
    "acce397f-cbfb-4fe6-911e-6790b333fe86.png": {
     "image/png": "[encoded data removed]"
    }
   },
   "cell_type": "markdown",
   "id": "8f4a30af-e8a6-4ea2-97d2-423477dc972b",
   "metadata": {},
   "source": [
    "![Plot](attachment:acce397f-cbfb-4fe6-911e-6790b333fe86.png)"
   ]
  },
  {
   "cell_type": "markdown",
   "id": "e5d8b64d-0098-4207-9bad-22b29c636fa8",
   "metadata": {},
   "source": [
    "So, In above graph we can find that somewhere between 11 and 13 our model perform good and then the score starts decreasing."
   ]
  },
  {
   "cell_type": "code",
   "execution_count": 10,
   "id": "a4c2f096-90f6-4e23-98ca-3425f19dba4e",
   "metadata": {},
   "outputs": [],
   "source": [
    "# modelling\n",
    "clf = KNeighborsClassifier(n_neighbors=11)\n",
    "clf.fit(x_train,y_train)\n",
    "\n",
    "y_train_pred = clf.predict(x_train)\n",
    "y_test_pred = clf.predict(x_test)"
   ]
  },
  {
   "cell_type": "code",
   "execution_count": 11,
   "id": "8c6b3d98-24bd-4ceb-8349-8e4b1a76e09c",
   "metadata": {},
   "outputs": [
    {
     "data": {
      "text/plain": [
       "(0.9693154761904762, 0.9635714285714285, 0.9586294430244292)"
      ]
     },
     "execution_count": 11,
     "metadata": {},
     "output_type": "execute_result"
    }
   ],
   "source": [
    "# model score\n",
    "f1_train = metrics.accuracy_score(y_train,y_train_pred)\n",
    "f1_test = metrics.accuracy_score(y_test,y_test_pred)\n",
    "cvs = np.mean(model_selection.cross_val_score(clf, x_train, y_train, scoring='f1_macro', cv=5))\n",
    "(f1_train, f1_test, cvs)"
   ]
  },
  {
   "cell_type": "code",
   "execution_count": 12,
   "id": "8508101c-3c54-4ce6-aae8-eabed6c4ec72",
   "metadata": {},
   "outputs": [
    {
     "data": {
      "text/plain": [
       "(0.9693154761904762, 0.9635714285714285, 0.9586294430244292)"
      ]
     },
     "execution_count": 12,
     "metadata": {},
     "output_type": "execute_result"
    }
   ],
   "source": [
    "f1_train = metrics.accuracy_score(y_train,y_train_pred)\n",
    "f1_test = metrics.accuracy_score(y_test,y_test_pred)\n",
    "cvs = np.mean(model_selection.cross_val_score(clf, x_train, y_train, scoring='f1_macro', cv=5))\n",
    "(f1_train, f1_test, cvs)"
   ]
  },
  {
   "cell_type": "markdown",
   "id": "71a31ca4-6f6b-4139-83b2-dc7c59c24c11",
   "metadata": {},
   "source": [
    "**Predicting with random image**"
   ]
  },
  {
   "cell_type": "code",
   "execution_count": 13,
   "id": "accb07f8-d83c-4fee-97df-ce9cc555d868",
   "metadata": {},
   "outputs": [
    {
     "data": {
      "text/plain": [
       "array([5], dtype=int64)"
      ]
     },
     "execution_count": 13,
     "metadata": {},
     "output_type": "execute_result"
    }
   ],
   "source": [
    "img = Image.open('MNIST_6_0.png').convert('L')\n",
    "clf.predict(np.array(img).reshape(1,-1))"
   ]
  },
  {
   "cell_type": "code",
   "execution_count": 14,
   "id": "fd1d6fc5-b26b-437f-ba9a-c9290d4077eb",
   "metadata": {},
   "outputs": [
    {
     "data": {
      "image/png": "[encoded data removed]",
      "text/plain": [
       "<Figure size 432x288 with 1 Axes>"
      ]
     },
     "metadata": {
      "needs_background": "light"
     },
     "output_type": "display_data"
    }
   ],
   "source": [
    "plt.imshow(img)\n",
    "plt.grid('off')"
   ]
  },
  {
   "cell_type": "markdown",
   "id": "b318a3ce-2223-425b-a6da-1979afe7f6da",
   "metadata": {},
   "source": [
    "## Conclusion:\n",
    "\n",
    "The notebook has practised machine learning techniques to obtain the appropriate digit recognition."
   ]
  },
  {
   "cell_type": "markdown",
   "id": "5246faa0-e224-43da-ad3e-8ddb6deb60f3",
   "metadata": {
    "tags": []
   },
   "source": [
    "<h3>Author</h3>\n",
    "<h4>Akash Sharma</h4>\n",
    "<div style=\"float:left\">\n",
    "  <a href=\"https://www.linkedin.com/in/akash-sharma-01775b14a\">\n",
    "    <img src=\"https://img.shields.io/badge/LinkedIn-0077B5?style=for-the-badge&logo=linkedin&logoColor=white\" alt=\"LinkedIn\">\n",
    "  </a>\n",
    "  <a href=\"https://discord.com/users/366283102462541865\">\n",
    "    <img src=\"https://img.shields.io/badge/Discord-7289DA?style=for-the-badge&logo=discord&logoColor=white\" alt=\"Discord\">\n",
    "  </a>\n",
    "  <a href=\"https://github.com/CosmiX-6\">\n",
    "    <img src=\"https://img.shields.io/badge/GitHub-100000?style=for-the-badge&logo=github&logoColor=white\" alt=\"GitHub\">\n",
    "  </a>\n",
    "</div>"
   ]
  }
 ],
 "metadata": {
  "kernelspec": {
   "display_name": "Python 3",
   "language": "python",
   "name": "python3"
  },
  "language_info": {
   "codemirror_mode": {
    "name": "ipython",
    "version": 3
   },
   "file_extension": ".py",
   "mimetype": "text/x-python",
   "name": "python",
   "nbconvert_exporter": "python",
   "pygments_lexer": "ipython3",
   "version": "3.9.4"
  }
 },
 "nbformat": 4,
 "nbformat_minor": 5
}
