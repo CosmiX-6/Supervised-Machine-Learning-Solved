{
 "cells": [
  {
   "cell_type": "markdown",
   "metadata": {},
   "source": [
    "# **DIGIT HANDWRITING CLASSIFICATION**"
   ]
  },
  {
   "cell_type": "markdown",
   "metadata": {},
   "source": [
    "## Abstract\n",
    "The problem of handwritten digit recognition has long been an open problem in the field of pattern classification. A ton of studies have shown that Neural networks, machine learning have great and efficient performance. In data classification Deep learning and Neural Network algorithms are a branch of Machine learning that can automatically identify patterns in the data, and then use the uncovered patterns to predict future data, or to perform other alternative kinds of decision making under unreliability Deep Learning algorithms are used to model high level abstractions in data.\n",
    "\n",
    "## Problem Statement\n",
    "In this notebook our aim will be to build simple feedforward neural network using softmax to predict the number in each\n",
    "image."
   ]
  },
  {
   "cell_type": "markdown",
   "metadata": {},
   "source": [
    "## Importing dependencies"
   ]
  },
  {
   "cell_type": "code",
   "execution_count": 1,
   "metadata": {},
   "outputs": [],
   "source": [
    "import pandas as pd\n",
    "import numpy as np\n",
    "from PIL import Image\n",
    "import glob\n",
    "import tqdm as tqdm\n",
    "import tensorflow as tf\n",
    "from tensorflow import keras"
   ]
  },
  {
   "cell_type": "markdown",
   "metadata": {},
   "source": [
    "Now we have to use the image, and convert int to vector array to create a dataframe that we can use for model development."
   ]
  },
  {
   "cell_type": "markdown",
   "metadata": {},
   "source": [
    "#### Defining function that will be used in for converting the image into array"
   ]
  },
  {
   "cell_type": "code",
   "execution_count": 2,
   "metadata": {},
   "outputs": [],
   "source": [
    "# code to read and convert images into vector array\n",
    "def convert_image(img_file):\n",
    "    img = Image.open(img_file).convert('L').resize((28,28))\n",
    "    img_data = np.asarray(img).reshape(1,-1)\n",
    "    return img_data"
   ]
  },
  {
   "cell_type": "markdown",
   "metadata": {},
   "source": [
    "## Reading the Images files and Creating a tabular dataset with converted image arrays"
   ]
  },
  {
   "cell_type": "code",
   "execution_count": 3,
   "metadata": {},
   "outputs": [
    {
     "name": "stderr",
     "output_type": "stream",
     "text": [
      "<ipython-input-3-907b4f727f23>:2: TqdmDeprecationWarning: This function will be removed in tqdm==5.0.0\n",
      "Please use `tqdm.notebook.tqdm` instead of `tqdm.tqdm_notebook`\n",
      "  for i in tqdm.tqdm_notebook(range(10)):\n"
     ]
    },
    {
     "data": {
      "application/vnd.jupyter.widget-view+json": {
       "model_id": "3d640b75ec8442df826e19e55aa1214c",
       "version_major": 2,
       "version_minor": 0
      },
      "text/plain": [
       "  0%|          | 0/10 [00:00<?, ?it/s]"
      ]
     },
     "metadata": {},
     "output_type": "display_data"
    }
   ],
   "source": [
    "df = pd.DataFrame()\n",
    "for i in tqdm.tqdm_notebook(range(10)):\n",
    "    imglist = glob.glob(f'assets/data/{i}/*')\n",
    "    for file in imglist:\n",
    "        temp = pd.DataFrame(convert_image(file))\n",
    "        temp['target'] = i\n",
    "        df = df.append(temp, ignore_index=True)"
   ]
  },
  {
   "cell_type": "markdown",
   "metadata": {},
   "source": [
    "#### Initializing two variable which will carry the Dependent and Target Variable"
   ]
  },
  {
   "cell_type": "code",
   "execution_count": 4,
   "metadata": {},
   "outputs": [],
   "source": [
    "# creating feature and target set\n",
    "Xdata = df.iloc[:,:-1]\n",
    "Ydata = df.iloc[:,-1]"
   ]
  },
  {
   "cell_type": "markdown",
   "metadata": {},
   "source": [
    "#### Splitting data for training and testing the model"
   ]
  },
  {
   "cell_type": "code",
   "execution_count": 5,
   "metadata": {},
   "outputs": [],
   "source": [
    "from sklearn.model_selection import train_test_split"
   ]
  },
  {
   "cell_type": "code",
   "execution_count": 6,
   "metadata": {},
   "outputs": [],
   "source": [
    "# splitting the feature and target for training and testing the model\n",
    "x_train, x_test, y_train, y_test = train_test_split(Xdata,Ydata,test_size = 0.2, random_state = 1)"
   ]
  },
  {
   "cell_type": "markdown",
   "metadata": {},
   "source": [
    "## Modelling"
   ]
  },
  {
   "cell_type": "markdown",
   "metadata": {},
   "source": [
    "##### We are now going to define the model, by addming layers and activation parameters, We will also add the compiling parameter the will calculate and display te performance of the model."
   ]
  },
  {
   "cell_type": "code",
   "execution_count": 7,
   "metadata": {},
   "outputs": [
    {
     "name": "stdout",
     "output_type": "stream",
     "text": [
      "Model: \"sequential\"\n",
      "_________________________________________________________________\n",
      "Layer (type)                 Output Shape              Param #   \n",
      "=================================================================\n",
      "flatten (Flatten)            (None, 784)               0         \n",
      "_________________________________________________________________\n",
      "dense (Dense)                (None, 128)               100480    \n",
      "_________________________________________________________________\n",
      "dense_1 (Dense)              (None, 10)                1290      \n",
      "=================================================================\n",
      "Total params: 101,770\n",
      "Trainable params: 101,770\n",
      "Non-trainable params: 0\n",
      "_________________________________________________________________\n"
     ]
    }
   ],
   "source": [
    "# building a feed forward neural network  model\n",
    "model=keras.Sequential([\n",
    "    keras.layers.Flatten(input_shape=(784,)),\n",
    "    keras.layers.Dense(128, activation=tf.nn.relu),\n",
    "    keras.layers.Dense(10, activation=tf.nn.softmax)\n",
    "])\n",
    "\n",
    "model.compile(optimizer=tf.optimizers.Adam(), loss=\"sparse_categorical_crossentropy\", metrics=['Accuracy'])\n",
    "\n",
    "model.summary()"
   ]
  },
  {
   "cell_type": "markdown",
   "metadata": {},
   "source": [
    "##### So we are model is defined and its good to fit the data"
   ]
  },
  {
   "cell_type": "code",
   "execution_count": 8,
   "metadata": {},
   "outputs": [
    {
     "name": "stdout",
     "output_type": "stream",
     "text": [
      "Epoch 1/10\n",
      "1050/1050 [==============================] - 2s 1ms/step - loss: 4.0480 - Accuracy: 0.8596\n",
      "Epoch 2/10\n",
      "1050/1050 [==============================] - 1s 1ms/step - loss: 0.5193 - Accuracy: 0.8998\n",
      "Epoch 3/10\n",
      "1050/1050 [==============================] - 1s 1ms/step - loss: 0.3484 - Accuracy: 0.9206\n",
      "Epoch 4/10\n",
      "1050/1050 [==============================] - 1s 1ms/step - loss: 0.2935 - Accuracy: 0.9284\n",
      "Epoch 5/10\n",
      "1050/1050 [==============================] - 1s 1ms/step - loss: 0.2601 - Accuracy: 0.9331\n",
      "Epoch 6/10\n",
      "1050/1050 [==============================] - 1s 1ms/step - loss: 0.2389 - Accuracy: 0.9416\n",
      "Epoch 7/10\n",
      "1050/1050 [==============================] - 1s 1ms/step - loss: 0.2232 - Accuracy: 0.9436\n",
      "Epoch 8/10\n",
      "1050/1050 [==============================] - 1s 1ms/step - loss: 0.2201 - Accuracy: 0.9446\n",
      "Epoch 9/10\n",
      "1050/1050 [==============================] - 1s 1ms/step - loss: 0.1860 - Accuracy: 0.9524\n",
      "Epoch 10/10\n",
      "1050/1050 [==============================] - 1s 1ms/step - loss: 0.1914 - Accuracy: 0.9521\n"
     ]
    },
    {
     "data": {
      "text/plain": [
       "<keras.callbacks.History at 0x1cdd4b70070>"
      ]
     },
     "execution_count": 8,
     "metadata": {},
     "output_type": "execute_result"
    }
   ],
   "source": [
    "model.fit(x_train, y_train, epochs=10)"
   ]
  },
  {
   "cell_type": "markdown",
   "metadata": {},
   "source": [
    "#### Model Evaluation"
   ]
  },
  {
   "cell_type": "code",
   "execution_count": 9,
   "metadata": {},
   "outputs": [
    {
     "name": "stdout",
     "output_type": "stream",
     "text": [
      "263/263 [==============================] - 0s 879us/step - loss: 0.3292 - Accuracy: 0.9387\n"
     ]
    },
    {
     "data": {
      "text/plain": [
       "[0.3292447030544281, 0.9386904835700989]"
      ]
     },
     "execution_count": 9,
     "metadata": {},
     "output_type": "execute_result"
    }
   ],
   "source": [
    "model.evaluate(x_test, y_test)"
   ]
  },
  {
   "cell_type": "markdown",
   "metadata": {},
   "source": [
    "#### Lets predict the digit with trained data first"
   ]
  },
  {
   "cell_type": "markdown",
   "metadata": {},
   "source": [
    "#### Predicting 1 :"
   ]
  },
  {
   "cell_type": "code",
   "execution_count": 10,
   "metadata": {},
   "outputs": [
    {
     "data": {
      "text/plain": [
       "4"
      ]
     },
     "execution_count": 10,
     "metadata": {},
     "output_type": "execute_result"
    }
   ],
   "source": [
    "# using an image from training set\n",
    "np.argmax(model.predict(np.asarray(x_train.head(1))))"
   ]
  },
  {
   "cell_type": "markdown",
   "metadata": {},
   "source": [
    "Lets take look at the converted array what was the actual image looking like..."
   ]
  },
  {
   "cell_type": "code",
   "execution_count": 11,
   "metadata": {},
   "outputs": [
    {
     "data": {
      "text/plain": [
       "<matplotlib.image.AxesImage at 0x1cdd4f423a0>"
      ]
     },
     "execution_count": 11,
     "metadata": {},
     "output_type": "execute_result"
    },
    {
     "data": {
      "image/png": "[encoded data removed]",
      "text/plain": [
       "<Figure size 432x288 with 1 Axes>"
      ]
     },
     "metadata": {
      "needs_background": "light"
     },
     "output_type": "display_data"
    }
   ],
   "source": [
    "import matplotlib.pyplot as plt\n",
    "plt.imshow(np.asarray(x_train.head(1)).reshape(28,-1))"
   ]
  },
  {
   "cell_type": "markdown",
   "metadata": {},
   "source": [
    "#### Predicting 2:"
   ]
  },
  {
   "cell_type": "code",
   "execution_count": 12,
   "metadata": {},
   "outputs": [
    {
     "data": {
      "text/plain": [
       "5"
      ]
     },
     "execution_count": 12,
     "metadata": {},
     "output_type": "execute_result"
    }
   ],
   "source": [
    "# predicting result for image downloaded from google\n",
    "np.argmax(model.predict((convert_image('MNIST_6_0.png'))))"
   ]
  },
  {
   "cell_type": "code",
   "execution_count": 13,
   "metadata": {},
   "outputs": [
    {
     "data": {
      "text/plain": [
       "<matplotlib.image.AxesImage at 0x1cdd4ae8190>"
      ]
     },
     "execution_count": 13,
     "metadata": {},
     "output_type": "execute_result"
    },
    {
     "data": {
      "image/png": "[encoded data removed]",
      "text/plain": [
       "<Figure size 432x288 with 1 Axes>"
      ]
     },
     "metadata": {
      "needs_background": "light"
     },
     "output_type": "display_data"
    }
   ],
   "source": [
    "import matplotlib.pyplot as plt\n",
    "plt.imshow(convert_image('MNIST_6_0.png').reshape(28,-1))"
   ]
  },
  {
   "cell_type": "markdown",
   "metadata": {},
   "source": [
    "### Saving data to csv file"
   ]
  },
  {
   "cell_type": "code",
   "execution_count": 14,
   "metadata": {},
   "outputs": [],
   "source": [
    "df.to_csv('output/processed_dataset/mnist_digit_data.csv', index=False)"
   ]
  },
  {
   "cell_type": "markdown",
   "metadata": {},
   "source": [
    "## Conclusion:\n",
    "\n",
    "The notebook has practised machine learning techniques including use of Tensorflow to obtain the appropriate digit recognition.\n",
    "\n",
    "\n",
    "_Time taken in execution of this notebook : 329.8285059928894 sec_"
   ]
  },
  {
   "cell_type": "markdown",
   "metadata": {},
   "source": [
    "<div style=\"margin-top:100px; float:right; text-align:right;\">\n",
    "        <h3>Author</h3>\n",
    "        <h4>Akash Sharma</h4>\n",
    "        <a href=\"https://www.linkedin.com/in/akash-sharma-01775b14a\">\n",
    "            <img src=\"https://img.shields.io/static/v1?logo=linkedin&labelColor=orange&logoColor=white&label=&message=LinkedIn&color=informational&style=plastic\" alt=\"LinkedIn\">\n",
    "        </a>\n",
    "        <a href=\"https://discord.com/users/366283102462541865\">\n",
    "            <img src=\"https://img.shields.io/static/v1?logo=discord&labelColor=grey&logoColor=white&label=&message=Discord&color=blue&style=plastic\" alt=\"Discord\">\n",
    "        </a>\n",
    "        <a href=\"https://github.com/CosmiX-6\">\n",
    "            <img src=\"https://img.shields.io/static/v1?logo=github&labelColor=green&logoColor=black&label=&message=GitHub&color=black&style=plastic\" alt=\"GitHub\">\n",
    "        </a>\n",
    "</div>"
   ]
  }
 ],
 "metadata": {
  "kernelspec": {
   "display_name": "Python 3",
   "language": "python",
   "name": "python3"
  },
  "language_info": {
   "codemirror_mode": {
    "name": "ipython",
    "version": 3
   },
   "file_extension": ".py",
   "mimetype": "text/x-python",
   "name": "python",
   "nbconvert_exporter": "python",
   "pygments_lexer": "ipython3",
   "version": "3.8.5"
  }
 },
 "nbformat": 4,
 "nbformat_minor": 5
}
